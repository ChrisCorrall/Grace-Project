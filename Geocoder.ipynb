{
 "cells": [
  {
   "cell_type": "code",
   "execution_count": 8,
   "metadata": {
    "collapsed": true
   },
   "outputs": [],
   "source": [
    "import pandas as pd\n",
    "from geopy.geocoders import Nominatim\n",
    "geolocator = Nominatim(user_agent=\"Graces_Project\")\n",
    "import re\n",
    "\n",
    "import folium\n",
    "from folium.plugins import MarkerCluster"
   ]
  },
  {
   "cell_type": "code",
   "execution_count": 22,
   "metadata": {
    "collapsed": true
   },
   "outputs": [],
   "source": [
    "df = pd.read_csv(\"test.csv\", encoding=\"utf7\")"
   ]
  },
  {
   "cell_type": "code",
   "execution_count": 25,
   "metadata": {
    "collapsed": true
   },
   "outputs": [],
   "source": [
    "from geopy.extra.rate_limiter import RateLimiter\n",
    "geocode = RateLimiter(geolocator.geocode, min_delay_seconds=1)\n",
    "df['location'] = df['address'].apply(geocode)\n",
    "\n",
    "df['point'] = df['location'].apply(lambda loc: tuple(loc.point) if loc else None)"
   ]
  },
  {
   "cell_type": "code",
   "execution_count": 11,
   "metadata": {},
   "outputs": [
    {
     "data": {
      "text/plain": [
       "(55.8599762, -4.252606)"
      ]
     },
     "execution_count": 11,
     "metadata": {},
     "output_type": "execute_result"
    }
   ],
   "source": [
    "(df.point[0][0],df.point[0][1])"
   ]
  },
  {
   "cell_type": "code",
   "execution_count": 23,
   "metadata": {},
   "outputs": [
    {
     "data": {
      "text/html": [
       "<div>\n",
       "<style scoped>\n",
       "    .dataframe tbody tr th:only-of-type {\n",
       "        vertical-align: middle;\n",
       "    }\n",
       "\n",
       "    .dataframe tbody tr th {\n",
       "        vertical-align: top;\n",
       "    }\n",
       "\n",
       "    .dataframe thead th {\n",
       "        text-align: right;\n",
       "    }\n",
       "</style>\n",
       "<table border=\"1\" class=\"dataframe\">\n",
       "  <thead>\n",
       "    <tr style=\"text-align: right;\">\n",
       "      <th></th>\n",
       "      <th>address</th>\n",
       "      <th>category</th>\n",
       "      <th>link</th>\n",
       "    </tr>\n",
       "  </thead>\n",
       "  <tbody>\n",
       "    <tr>\n",
       "      <th>0</th>\n",
       "      <td>Royal Exchange Square</td>\n",
       "      <td>Recording</td>\n",
       "      <td>https://www.soundcloud.com/field-recording/201...</td>\n",
       "    </tr>\n",
       "    <tr>\n",
       "      <th>1</th>\n",
       "      <td>167 Renfrew St</td>\n",
       "      <td>Picture</td>\n",
       "      <td>https://www.realla-images.freetls.fastly.net/r...</td>\n",
       "    </tr>\n",
       "  </tbody>\n",
       "</table>\n",
       "</div>"
      ],
      "text/plain": [
       "                 address   category  \\\n",
       "0  Royal Exchange Square  Recording   \n",
       "1         167 Renfrew St    Picture   \n",
       "\n",
       "                                                link  \n",
       "0  https://www.soundcloud.com/field-recording/201...  \n",
       "1  https://www.realla-images.freetls.fastly.net/r...  "
      ]
     },
     "execution_count": 23,
     "metadata": {},
     "output_type": "execute_result"
    }
   ],
   "source": [
    "df"
   ]
  },
  {
   "cell_type": "code",
   "execution_count": 13,
   "metadata": {
    "collapsed": true
   },
   "outputs": [],
   "source": [
    "## Need to test what happens when two identical points exist."
   ]
  },
  {
   "cell_type": "code",
   "execution_count": 14,
   "metadata": {
    "collapsed": true
   },
   "outputs": [],
   "source": [
    "def makeHref(url,link_text = None):\n",
    "    if link_text == None:\n",
    "        link_text = str(url)\n",
    "    return '<a href=\"' + url + '\"target=\"_blank\">' + re.sub(r\"[']+\", \"\\\\\\\\'\", link_text[:45]) +'</a>'"
   ]
  },
  {
   "cell_type": "code",
   "execution_count": 26,
   "metadata": {
    "scrolled": true
   },
   "outputs": [
    {
     "data": {
      "text/html": [
       "<div style=\"width:100%;\"><div style=\"position:relative;width:100%;height:0;padding-bottom:60%;\"><iframe src=\"about:blank\" style=\"position:absolute;width:100%;height:100%;left:0;top:0;border:none !important;\" data-html=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 onload=\"this.contentDocument.open();this.contentDocument.write(atob(this.getAttribute('data-html')));this.contentDocument.close();\" allowfullscreen webkitallowfullscreen mozallowfullscreen></iframe></div></div>"
      ],
      "text/plain": [
       "<folium.folium.Map at 0x24b6f865b00>"
      ]
     },
     "metadata": {},
     "output_type": "display_data"
    }
   ],
   "source": [
    "# central coordinates of Glasgow\n",
    "GLA_COORDINATES = (55.8599762, -4.252606)\n",
    "  \n",
    "# create empty map zoomed in on Glasgow\n",
    "map = folium.Map(location=GLA_COORDINATES, zoom_start=12)\n",
    "\n",
    "# add one markercluster per type to allow for individual toggling\n",
    "recording = MarkerCluster(name='recording').add_to(map)\n",
    "picture = MarkerCluster(name='picture').add_to(map)\n",
    "video = MarkerCluster(name='video').add_to(map)\n",
    "\n",
    "# add recordings to the map\n",
    "for records in df[df.category == \"Recording\"].iterrows():\n",
    "    folium.Marker(location=(records[1].point[0],records[1].point[1]), \n",
    "                  popup=\"<h3>Recording</h3><br>\" + makeHref(records[1]['link']),\n",
    "                 icon=folium.Icon(color='green', icon_color='white', icon='soundcloud', angle=0, prefix='fa'))\\\n",
    "    .add_to(recording)\n",
    "    \n",
    "# add pictures to the map\n",
    "for pics in df[df.category == \"Picture\"].iterrows():\n",
    "    folium.Marker(location=(pics[1].point[0],pics[1].point[1]), \n",
    "                  popup=\"<h3>Picture</h3><br>\" + makeHref(pics[1]['link']),\n",
    "                 icon=folium.Icon(color='blue', icon='camera', prefix='fa'))\\\n",
    "    .add_to(picture)\n",
    "    \n",
    "# # add other to the map\n",
    "# for chairs in df2[df2.category == 3].iterrows():\n",
    "#     folium.Marker(location=[float(chairs[1]['lat']), float(chairs[1]['lon'])], \n",
    "#                   popup=chairs[1]['Premises Name'],\n",
    "#                  icon=folium.Icon(color='gray', icon='question', prefix='fa'))\\\n",
    "#     .add_to(other)\n",
    "    \n",
    "# enable toggling of data points\n",
    "folium.LayerControl().add_to(map)    \n",
    "    \n",
    "display(map)"
   ]
  },
  {
   "cell_type": "code",
   "execution_count": null,
   "metadata": {
    "collapsed": true
   },
   "outputs": [],
   "source": [
    "# Because popups are just html boxes, if we can get embed codes for everything, then we're grand."
   ]
  },
  {
   "cell_type": "code",
   "execution_count": null,
   "metadata": {
    "collapsed": true
   },
   "outputs": [],
   "source": []
  }
 ],
 "metadata": {
  "kernelspec": {
   "display_name": "Python 3",
   "language": "python",
   "name": "python3"
  },
  "language_info": {
   "codemirror_mode": {
    "name": "ipython",
    "version": 3
   },
   "file_extension": ".py",
   "mimetype": "text/x-python",
   "name": "python",
   "nbconvert_exporter": "python",
   "pygments_lexer": "ipython3",
   "version": "3.6.3"
  }
 },
 "nbformat": 4,
 "nbformat_minor": 2
}
