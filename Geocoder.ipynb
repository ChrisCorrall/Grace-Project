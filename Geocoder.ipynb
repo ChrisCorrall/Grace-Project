{
 "cells": [
  {
   "cell_type": "code",
   "execution_count": 8,
   "metadata": {
    "collapsed": true
   },
   "outputs": [],
   "source": [
    "import pandas as pd\n",
    "from geopy.geocoders import Nominatim\n",
    "geolocator = Nominatim(user_agent=\"Graces_Project\")\n",
    "import re\n",
    "\n",
    "import folium\n",
    "from folium.plugins import MarkerCluster"
   ]
  },
  {
   "cell_type": "code",
   "execution_count": 2,
   "metadata": {
    "collapsed": true
   },
   "outputs": [],
   "source": [
    "df = pd.read_csv(\"test.csv\")"
   ]
  },
  {
   "cell_type": "code",
   "execution_count": 3,
   "metadata": {
    "collapsed": true
   },
   "outputs": [],
   "source": [
    "from geopy.extra.rate_limiter import RateLimiter\n",
    "geocode = RateLimiter(geolocator.geocode, min_delay_seconds=1)\n",
    "df['location'] = df['address'].apply(geocode)\n",
    "\n",
    "df['point'] = df['location'].apply(lambda loc: tuple(loc.point) if loc else None)"
   ]
  },
  {
   "cell_type": "code",
   "execution_count": 55,
   "metadata": {},
   "outputs": [
    {
     "data": {
      "text/plain": [
       "(55.8599762, -4.252606)"
      ]
     },
     "execution_count": 55,
     "metadata": {},
     "output_type": "execute_result"
    }
   ],
   "source": [
    "(df.point[0][0],df.point[0][1])"
   ]
  },
  {
   "cell_type": "code",
   "execution_count": 45,
   "metadata": {},
   "outputs": [
    {
     "data": {
      "text/html": [
       "<div>\n",
       "<style scoped>\n",
       "    .dataframe tbody tr th:only-of-type {\n",
       "        vertical-align: middle;\n",
       "    }\n",
       "\n",
       "    .dataframe tbody tr th {\n",
       "        vertical-align: top;\n",
       "    }\n",
       "\n",
       "    .dataframe thead th {\n",
       "        text-align: right;\n",
       "    }\n",
       "</style>\n",
       "<table border=\"1\" class=\"dataframe\">\n",
       "  <thead>\n",
       "    <tr style=\"text-align: right;\">\n",
       "      <th></th>\n",
       "      <th>address</th>\n",
       "      <th>category</th>\n",
       "      <th>link</th>\n",
       "      <th>location</th>\n",
       "      <th>point</th>\n",
       "    </tr>\n",
       "  </thead>\n",
       "  <tbody>\n",
       "    <tr>\n",
       "      <th>0</th>\n",
       "      <td>Royal Exchange Square</td>\n",
       "      <td>Recording</td>\n",
       "      <td>https://soundcloud.com/field-recording/2016-09...</td>\n",
       "      <td>(Royal Exchange Square, Pinkston, Merchant Cit...</td>\n",
       "      <td>(55.8599762, -4.252606, 0.0)</td>\n",
       "    </tr>\n",
       "    <tr>\n",
       "      <th>1</th>\n",
       "      <td>167 Renfrew St</td>\n",
       "      <td>Picture</td>\n",
       "      <td>https://lh3.googleusercontent.com/proxy/tnpqUn...</td>\n",
       "      <td>(Mackintosh Building, 167, Renfrew Street, Cra...</td>\n",
       "      <td>(55.86605315, -4.263740052313956, 0.0)</td>\n",
       "    </tr>\n",
       "  </tbody>\n",
       "</table>\n",
       "</div>"
      ],
      "text/plain": [
       "                 address   category  \\\n",
       "0  Royal Exchange Square  Recording   \n",
       "1         167 Renfrew St    Picture   \n",
       "\n",
       "                                                link  \\\n",
       "0  https://soundcloud.com/field-recording/2016-09...   \n",
       "1  https://lh3.googleusercontent.com/proxy/tnpqUn...   \n",
       "\n",
       "                                            location  \\\n",
       "0  (Royal Exchange Square, Pinkston, Merchant Cit...   \n",
       "1  (Mackintosh Building, 167, Renfrew Street, Cra...   \n",
       "\n",
       "                                    point  \n",
       "0            (55.8599762, -4.252606, 0.0)  \n",
       "1  (55.86605315, -4.263740052313956, 0.0)  "
      ]
     },
     "execution_count": 45,
     "metadata": {},
     "output_type": "execute_result"
    }
   ],
   "source": [
    "df"
   ]
  },
  {
   "cell_type": "code",
   "execution_count": null,
   "metadata": {
    "collapsed": true
   },
   "outputs": [],
   "source": [
    "## Need to test what happens when two identical points exist."
   ]
  },
  {
   "cell_type": "code",
   "execution_count": 6,
   "metadata": {
    "collapsed": true
   },
   "outputs": [],
   "source": [
    "def makeHref(url,link_text = None):\n",
    "    if link_text == None:\n",
    "        link_text = str(url)\n",
    "    return '<a href=\"' + url + '\"target=\"_blank\">' + re.sub(r\"[']+\", \"\\\\\\\\'\", link_text[:45]) +'</a>'"
   ]
  },
  {
   "cell_type": "code",
   "execution_count": 9,
   "metadata": {
    "scrolled": true
   },
   "outputs": [
    {
     "data": {
      "text/html": [
       "<div style=\"width:100%;\"><div style=\"position:relative;width:100%;height:0;padding-bottom:60%;\"><iframe src=\"about:blank\" style=\"position:absolute;width:100%;height:100%;left:0;top:0;border:none !important;\" data-html=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 onload=\"this.contentDocument.open();this.contentDocument.write(atob(this.getAttribute('data-html')));this.contentDocument.close();\" allowfullscreen webkitallowfullscreen mozallowfullscreen></iframe></div></div>"
      ],
      "text/plain": [
       "<folium.folium.Map at 0x1d43258cd30>"
      ]
     },
     "metadata": {},
     "output_type": "display_data"
    }
   ],
   "source": [
    "# central coordinates of Glasgow\n",
    "GLA_COORDINATES = (55.8599762, -4.252606)\n",
    "  \n",
    "# create empty map zoomed in on Glasgow\n",
    "map = folium.Map(location=GLA_COORDINATES, zoom_start=12)\n",
    "\n",
    "# add one markercluster per type to allow for individual toggling\n",
    "recording = MarkerCluster(name='recording').add_to(map)\n",
    "picture = MarkerCluster(name='picture').add_to(map)\n",
    "video = MarkerCluster(name='video').add_to(map)\n",
    "\n",
    "# add recordings to the map\n",
    "for records in df[df.category == \"Recording\"].iterrows():\n",
    "    folium.Marker(location=(records[1].point[0],records[1].point[1]), \n",
    "                  popup=\"<h3>Recording</h3><br>\" + makeHref(records[1]['link']),\n",
    "                 icon=folium.Icon(color='green', icon_color='white', icon='soundcloud', angle=0, prefix='fa'))\\\n",
    "    .add_to(recording)\n",
    "    \n",
    "# add pictures to the map\n",
    "for pics in df[df.category == \"Picture\"].iterrows():\n",
    "    folium.Marker(location=(pics[1].point[0],pics[1].point[1]), \n",
    "                  popup=\"<h3>Picture</h3><br>\" + makeHref(pics[1]['link']),\n",
    "                 icon=folium.Icon(color='blue', icon='camera', prefix='fa'))\\\n",
    "    .add_to(picture)\n",
    "    \n",
    "# # add other to the map\n",
    "# for chairs in df2[df2.category == 3].iterrows():\n",
    "#     folium.Marker(location=[float(chairs[1]['lat']), float(chairs[1]['lon'])], \n",
    "#                   popup=chairs[1]['Premises Name'],\n",
    "#                  icon=folium.Icon(color='gray', icon='question', prefix='fa'))\\\n",
    "#     .add_to(other)\n",
    "    \n",
    "# enable toggling of data points\n",
    "folium.LayerControl().add_to(map)    \n",
    "    \n",
    "display(map)"
   ]
  },
  {
   "cell_type": "code",
   "execution_count": null,
   "metadata": {
    "collapsed": true
   },
   "outputs": [],
   "source": [
    "popup = folium.Popup('<a href=\" [URL GOES HERE] \"target=\"_blank\"> [text for link goes here]' </a>'"
   ]
  },
  {
   "cell_type": "code",
   "execution_count": null,
   "metadata": {
    "collapsed": true
   },
   "outputs": [],
   "source": [
    "# Because popups are just html boxes, if we can get embed codes for everything, then we're grand."
   ]
  },
  {
   "cell_type": "code",
   "execution_count": null,
   "metadata": {
    "collapsed": true
   },
   "outputs": [],
   "source": []
  }
 ],
 "metadata": {
  "kernelspec": {
   "display_name": "Python 3",
   "language": "python",
   "name": "python3"
  },
  "language_info": {
   "codemirror_mode": {
    "name": "ipython",
    "version": 3
   },
   "file_extension": ".py",
   "mimetype": "text/x-python",
   "name": "python",
   "nbconvert_exporter": "python",
   "pygments_lexer": "ipython3",
   "version": "3.6.3"
  }
 },
 "nbformat": 4,
 "nbformat_minor": 2
}
